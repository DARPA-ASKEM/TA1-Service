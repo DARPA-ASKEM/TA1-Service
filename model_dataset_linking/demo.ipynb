{
 "cells": [
  {
   "cell_type": "markdown",
   "id": "1f0eea29-08e0-4fa6-aef2-a0653df01d15",
   "metadata": {},
   "source": [
    "First let's take a look at our model to dataset(s) linking use case -"
   ]
  },
  {
   "cell_type": "code",
   "execution_count": 1,
   "id": "bd884f42-9e56-4215-b0ec-1a974fefd43b",
   "metadata": {},
   "outputs": [
    {
     "name": "stdout",
     "output_type": "stream",
     "text": [
      "Model Info:\n",
      "[{'info': {'description': 'Model',\n",
      "           'header': {'description': 'Susceptible Infection Recovered model '\n",
      "                                     'for modeling the covid-19 pandemic in '\n",
      "                                     'the U.S',\n",
      "                      'model_version': '0.1',\n",
      "                      'name': 'SIR Model for COVID-19 in the U.S',\n",
      "                      'schema': 'https://raw.githubusercontent.com/DARPA-ASKEM/Model-Representations/petrinet_v0.5/petrinet/petrinet_schema.json'},\n",
      "           'id': '75ea93af-ffdc-449d-8667-4b2e378d3df7',\n",
      "           'metadata': {'annotations': {}},\n",
      "           'model': {'states': [{'grounding': {'identifiers': {'ido': '0000514'},\n",
      "                                               'modifiers': {}},\n",
      "                                 'id': 'susceptible_population',\n",
      "                                 'name': 'susceptible_population',\n",
      "                                 'units': None},\n",
      "                                {'grounding': {'identifiers': {'ido': '0000511'},\n",
      "                                               'modifiers': {}},\n",
      "                                 'id': 'infected_population',\n",
      "                                 'name': 'infected_population',\n",
      "                                 'units': None},\n",
      "                                {'grounding': {'identifiers': {'ido': '0000592'},\n",
      "                                               'modifiers': {}},\n",
      "                                 'id': 'immune_population',\n",
      "                                 'name': 'immune_population',\n",
      "                                 'units': None}],\n",
      "                     'transitions': [{'grounding': None,\n",
      "                                      'id': 't1',\n",
      "                                      'input': ['infected_population',\n",
      "                                                'susceptible_population'],\n",
      "                                      'output': ['infected_population',\n",
      "                                                 'infected_population'],\n",
      "                                      'properties': {'grounding': None,\n",
      "                                                     'name': 't1'}},\n",
      "                                     {'grounding': None,\n",
      "                                      'id': 't2',\n",
      "                                      'input': ['infected_population'],\n",
      "                                      'output': ['immune_population'],\n",
      "                                      'properties': {'grounding': None,\n",
      "                                                     'name': 't2'}}]},\n",
      "           'model_version': '0.1',\n",
      "           'name': 'SIR Model for COVID-19 in the U.S',\n",
      "           'properties': {},\n",
      "           'schema': 'https://raw.githubusercontent.com/DARPA-ASKEM/Model-Representations/petrinet_v0.5/petrinet/petrinet_schema.json',\n",
      "           'schema_name': 'petrinet',\n",
      "           'semantics': {'ode': {'initials': [],\n",
      "                                 'observables': [],\n",
      "                                 'parameters': [],\n",
      "                                 'rates': [],\n",
      "                                 'time': {'id': 't', 'units': None}}}},\n",
      "  'type': 'model'}]\n",
      "Datasets Info:\n",
      "\n",
      " Dataset Name: United States COVID-19 Community Levels by County \n",
      " Dataset ID: 0c582c5a-d70c-41e3-924f-b401c6e62188\n",
      "\n",
      " Dataset Name: The Tax Burden on Tobacco, 1970-2019 \n",
      " Dataset ID: 3d50093c-f548-4b7c-a8bd-76648713a2da\n",
      "\n",
      " Dataset Name: CDC Nutrition, Physical Activity, and Obesity - Legislation \n",
      " Dataset ID: a65e3c96-e188-42a2-8f58-d5f59a6f9282\n",
      "\n",
      " Dataset Name: Rates of TBI-related Deaths by Age Group - United States, 2001 - 2010 \n",
      " Dataset ID: 3fe83e93-64b2-4b99-8d42-e34344ead328\n",
      "\n",
      " Dataset Name: Motor Vehicle Occupant Death Rate, by Age and Gender, 2012 & 2014, All States \n",
      " Dataset ID: 5c98126e-7a8f-47d2-9d78-fbcdbd95e9e2\n",
      "\n",
      " Dataset Name: Botulism \n",
      " Dataset ID: 25690cbd-c0f4-4998-be62-895356e26e21\n",
      "\n",
      " Dataset Name: Development of an Empirically Derived Measure of Food Safety Culture in Restaurants \n",
      " Dataset ID: d9b7ea3a-4d7d-4b24-9366-89e875d2a374\n",
      "\n",
      " Dataset Name: Air Quality Measures on the National Environmental Health Tracking Network \n",
      " Dataset ID: 35b1abf5-8e6c-47f7-b922-8e8141a8cdc4\n",
      "\n",
      " Dataset Name: Daily Census Tract-Level PM2.5 Concentrations, 2016 \n",
      " Dataset ID: c40eda72-3f66-4557-834f-8607c1a12166\n",
      "\n",
      " Dataset Name: U.S. State and Territorial Public Mask Mandates From April 10, 2020 through August 15, 2021 by County by Day \n",
      " Dataset ID: de0e7a0c-9f39-4b3e-baea-9b25ee84d7cc\n"
     ]
    }
   ],
   "source": [
    "#let's load the eval example and take a look \n",
    "import json\n",
    "from pprint import pprint\n",
    "one_to_many_datasets=json.load(open(\"./eval_datasets/one_to_many_datasets.json\",\"r\"))\n",
    "print('Model Info:')\n",
    "pprint(one_to_many_datasets['models'])\n",
    "print('Datasets Info:')\n",
    "for data in one_to_many_datasets['datasets']:\n",
    "    print('\\n','Dataset Name:',data['info']['name'],'\\n','Dataset ID:',data['info']['id'])"
   ]
  },
  {
   "cell_type": "markdown",
   "id": "2705487c-a6c6-469f-be1e-5fc50a73cd83",
   "metadata": {},
   "source": [
    "Now let's create documents representing the dataset and model objects, embed them using openai embeddings and store them in our vector \n",
    "store:\n",
    "\n",
    "For now the documents contain the object name and description, but we could include lots of other info..."
   ]
  },
  {
   "cell_type": "code",
   "execution_count": 2,
   "id": "9243b434-59b5-4a48-8d42-cf3097faa61f",
   "metadata": {},
   "outputs": [],
   "source": [
    "from embed import document_embed\n",
    "vs=document_embed(one_to_many_datasets['datasets']+one_to_many_datasets['models'],db_dir=\"./demo/datasets\")"
   ]
  },
  {
   "cell_type": "markdown",
   "id": "ff4626e4-cb24-4864-bf9a-bdee6905b5f8",
   "metadata": {},
   "source": [
    "Now let's get dataset matches in the form of a ranked list for our example model - We will use cosine similarity of the embedded vectors to surface the top k relevant datasets"
   ]
  },
  {
   "cell_type": "code",
   "execution_count": 3,
   "id": "536db90a-fd6c-487c-b04b-8aed81d1894d",
   "metadata": {},
   "outputs": [
    {
     "name": "stdout",
     "output_type": "stream",
     "text": [
      "Datasets Ranked by Semantic Relevance to Model:\n"
     ]
    },
    {
     "data": {
      "text/plain": [
       "['0c582c5a-d70c-41e3-924f-b401c6e62188',\n",
       " '0c582c5a-d70c-41e3-924f-b401c6e62188',\n",
       " '0c582c5a-d70c-41e3-924f-b401c6e62188',\n",
       " '35b1abf5-8e6c-47f7-b922-8e8141a8cdc4',\n",
       " '35b1abf5-8e6c-47f7-b922-8e8141a8cdc4']"
      ]
     },
     "execution_count": 3,
     "metadata": {},
     "output_type": "execute_result"
    }
   ],
   "source": [
    "from find import find_dataset_semantic_matching\n",
    "pred_ranking=find_dataset_semantic_matching(one_to_many_datasets['models'][0]['info']['id'],db_dir=\"./demo/datasets\")\n",
    "print('Datasets Ranked by Semantic Relevance to Model:')\n",
    "pred_ranking"
   ]
  },
  {
   "cell_type": "markdown",
   "id": "9a256a4d-f7f8-4046-a302-72c79b0afbb5",
   "metadata": {},
   "source": [
    "We can compare this to the ground truth, which was hand annotated -"
   ]
  },
  {
   "cell_type": "code",
   "execution_count": 4,
   "id": "e68cd76f-16e0-47d3-847e-5d53360c0fd0",
   "metadata": {},
   "outputs": [
    {
     "data": {
      "text/plain": [
       "[{'model_id': '75ea93af-ffdc-449d-8667-4b2e378d3df7',\n",
       "  'ranking_lists': ['0c582c5a-d70c-41e3-924f-b401c6e62188',\n",
       "   'de0e7a0c-9f39-4b3e-baea-9b25ee84d7cc',\n",
       "   'a65e3c96-e188-42a2-8f58-d5f59a6f9282',\n",
       "   '35b1abf5-8e6c-47f7-b922-8e8141a8cdc4',\n",
       "   '3d50093c-f548-4b7c-a8bd-76648713a2da']}]"
      ]
     },
     "execution_count": 4,
     "metadata": {},
     "output_type": "execute_result"
    }
   ],
   "source": [
    "one_to_many_datasets['ground_truth']"
   ]
  },
  {
   "cell_type": "markdown",
   "id": "04c966ce-1b7c-42c1-a6bd-0c48630ac297",
   "metadata": {},
   "source": [
    "Now let's take a look at the one model to one dataset use case - "
   ]
  },
  {
   "cell_type": "code",
   "execution_count": 5,
   "id": "1a78da46-60c7-41ee-a6e4-a0cc8a249b0b",
   "metadata": {},
   "outputs": [
    {
     "name": "stdout",
     "output_type": "stream",
     "text": [
      "Model Info:\n",
      "[{'info': {'description': 'Suspectable, Infected, Recovered Epidemology model',\n",
      "           'header': {'description': 'Model',\n",
      "                      'model_version': '0.1',\n",
      "                      'name': 'Model',\n",
      "                      'schema': 'https://raw.githubusercontent.com/DARPA-ASKEM/Model-Representations/petrinet_v0.5/petrinet/petrinet_schema.json'},\n",
      "           'id': 'de5e51cc-8b57-45ec-b3af-67556797ad4c',\n",
      "           'metadata': {'annotations': {}},\n",
      "           'model': {'states': [{'grounding': {'identifiers': {'ido': '0000514'},\n",
      "                                               'modifiers': {}},\n",
      "                                 'id': 'susceptible_population',\n",
      "                                 'name': 'susceptible_population',\n",
      "                                 'units': None},\n",
      "                                {'grounding': {'identifiers': {'ido': '0000511'},\n",
      "                                               'modifiers': {}},\n",
      "                                 'id': 'infected_population',\n",
      "                                 'name': 'infected_population',\n",
      "                                 'units': None},\n",
      "                                {'grounding': {'identifiers': {'ido': '0000592'},\n",
      "                                               'modifiers': {}},\n",
      "                                 'id': 'immune_population',\n",
      "                                 'name': 'immune_population',\n",
      "                                 'units': None}],\n",
      "                     'transitions': [{'grounding': None,\n",
      "                                      'id': 't1',\n",
      "                                      'input': ['infected_population',\n",
      "                                                'susceptible_population'],\n",
      "                                      'output': ['infected_population',\n",
      "                                                 'infected_population'],\n",
      "                                      'properties': {'grounding': None,\n",
      "                                                     'name': 't1'}},\n",
      "                                     {'grounding': None,\n",
      "                                      'id': 't2',\n",
      "                                      'input': ['infected_population'],\n",
      "                                      'output': ['immune_population'],\n",
      "                                      'properties': {'grounding': None,\n",
      "                                                     'name': 't2'}}]},\n",
      "           'model_version': '0.1',\n",
      "           'name': 'SIR Model',\n",
      "           'properties': {},\n",
      "           'schema': 'https://raw.githubusercontent.com/DARPA-ASKEM/Model-Representations/petrinet_v0.5/petrinet/petrinet_schema.json',\n",
      "           'schema_name': 'petrinet',\n",
      "           'semantics': {'ode': {'initials': [],\n",
      "                                 'observables': [],\n",
      "                                 'parameters': [],\n",
      "                                 'rates': [],\n",
      "                                 'time': {'id': 't', 'units': None}}}},\n",
      "  'type': 'model'}]\n",
      "Datasets Info:\n",
      "\n",
      " Dataset Name: United States COVID-19 Community Levels by County \n",
      " Dataset ID: 41a32771-7a35-4da5-98a6-d420172108e8\n",
      "\n",
      " Dataset Feature Name: county \n",
      " Dataset Feature Description: County name\n",
      "\n",
      " Dataset Feature Name: county_fips \n",
      " Dataset Feature Description: Federal Information Processing Standards (FIPS) five character county code\n",
      "\n",
      " Dataset Feature Name: state \n",
      " Dataset Feature Description: State name\n",
      "\n",
      " Dataset Feature Name: county_population \n",
      " Dataset Feature Description: County population (2019 Census estimate)\n",
      "\n",
      " Dataset Feature Name: health_service_area_number \n",
      " Dataset Feature Description: Health Service Area (HSA) identifier\n",
      "\n",
      " Dataset Feature Name: health_service_area \n",
      " Dataset Feature Description: Health Service Area (HSA) name\n",
      "\n",
      " Dataset Feature Name: health_service_area_population \n",
      " Dataset Feature Description: Health Service Area population (2019 Census estimate)\n",
      "\n",
      " Dataset Feature Name: covid_inpatient_bed_utilization \n",
      " Dataset Feature Description: Percent of staffed inpatient beds occupied by COVID-19 patients (7-day average) \n",
      "\n",
      " Dataset Feature Name: covid_hospital_admissions_per_100k \n",
      " Dataset Feature Description: New COVID-19 admissions per 100,000 population (7-day total) \n",
      "\n",
      " Dataset Feature Name: covid_cases_per_100k \n",
      " Dataset Feature Description: New COVID-19 cases per 100,000 population (7-day total) \n",
      "\n",
      " Dataset Feature Name: covid-19_community_level \n",
      " Dataset Feature Description: COVID-19 community level [Low, Medium, High]\n",
      "\n",
      " Dataset Feature Name: date_updated \n",
      " Dataset Feature Description: Date of data release\n"
     ]
    }
   ],
   "source": [
    "one_to_one_features=json.load(open(\"./eval_datasets/one_to_one_features.json\",\"r\"))\n",
    "print('Model Info:')\n",
    "pprint(one_to_one_features['models'])\n",
    "print('Datasets Info:')\n",
    "print('\\n','Dataset Name:',one_to_one_features['datasets'][0]['info']['name'],'\\n','Dataset ID:',one_to_one_features['datasets'][0]['info']['id'])\n",
    "for feature in one_to_one_features['datasets'][0]['info']['columns']:\n",
    "    print('\\n','Dataset Feature Name:',feature['name'],'\\n','Dataset Feature Description:',feature['description'])"
   ]
  },
  {
   "cell_type": "markdown",
   "id": "0e8ca455-1545-4a29-9f24-0e4aaeff3885",
   "metadata": {},
   "source": [
    "Now let's create documents representing the dataset feature and model feature objects, embed them using openai embeddings and store them in our vector store:"
   ]
  },
  {
   "cell_type": "code",
   "execution_count": 6,
   "id": "4e48c149-87d0-4bf0-ada7-066a8616de59",
   "metadata": {},
   "outputs": [
    {
     "name": "stdout",
     "output_type": "stream",
     "text": [
      "Feature county on model United States COVID-19 Community Levels by County was embedded\n",
      "Feature county_fips on model United States COVID-19 Community Levels by County was embedded\n",
      "Feature state on model United States COVID-19 Community Levels by County was embedded\n",
      "Feature county_population on model United States COVID-19 Community Levels by County was embedded\n",
      "Feature health_service_area_number on model United States COVID-19 Community Levels by County was embedded\n",
      "Feature health_service_area on model United States COVID-19 Community Levels by County was embedded\n",
      "Feature health_service_area_population on model United States COVID-19 Community Levels by County was embedded\n",
      "Feature covid_inpatient_bed_utilization on model United States COVID-19 Community Levels by County was embedded\n",
      "Feature covid_hospital_admissions_per_100k on model United States COVID-19 Community Levels by County was embedded\n",
      "Feature covid_cases_per_100k on model United States COVID-19 Community Levels by County was embedded\n",
      "Feature covid-19_community_level on model United States COVID-19 Community Levels by County was embedded\n",
      "Feature date_updated on model United States COVID-19 Community Levels by County was embedded\n",
      "Feature susceptible_population on model SIR Model was embedded\n",
      "Feature infected_population on model SIR Model was embedded\n",
      "Feature immune_population on model SIR Model was embedded\n"
     ]
    }
   ],
   "source": [
    "from embed import short_feature_embed\n",
    "vs=short_feature_embed(one_to_one_features['datasets']+one_to_one_features['models'],db_dir=\"./demo/one_to_one_features\")"
   ]
  },
  {
   "cell_type": "markdown",
   "id": "725b63c9-dac9-47ce-a938-c905a308058b",
   "metadata": {},
   "source": [
    "Now let's get ranked dataset feature matches in the form of a ranked list for our each model feature in our example model - \n",
    "\n",
    "Example LLM Query used to rank features - \n",
    "\"\"\"Here are a list of epidemiology dataset features with their names and descriptions.\n",
    "        Please rank in order from most similar to least similar, the dataset features to an epidemiology \n",
    "        feature with the name {model_feature_name}.\n",
    "        \n",
    "        Output your ranking list in the following format:\n",
    "            1. [dataset_feature_name]\n",
    "            2. [dataset_feature_name]\n",
    "            3. [dataset_feature_name]\n",
    "            4. [dataset_feature_name]\n",
    "            5. [dataset_feature_name]\n",
    "\n",
    "        Dataset features list :\n",
    "            {dataset_features_list}\"\"\""
   ]
  },
  {
   "cell_type": "code",
   "execution_count": 8,
   "id": "c26ca1b4-d809-4f57-919e-0412391f4c52",
   "metadata": {},
   "outputs": [
    {
     "name": "stdout",
     "output_type": "stream",
     "text": [
      "Dataset Feature Relevance Ranked by Semantic Relevance to Model Feature for Each Feature:\n"
     ]
    },
    {
     "data": {
      "text/plain": [
       "{'susceptible_population': [{'dataset_id': '41a32771-7a35-4da5-98a6-d420172108e8',\n",
       "   'feature_name': 'county_population'},\n",
       "  {'dataset_id': '41a32771-7a35-4da5-98a6-d420172108e8',\n",
       "   'feature_name': 'health_service_area_population'},\n",
       "  {'dataset_id': '41a32771-7a35-4da5-98a6-d420172108e8',\n",
       "   'feature_name': 'covid_cases_per_100k'},\n",
       "  {'dataset_id': '41a32771-7a35-4da5-98a6-d420172108e8',\n",
       "   'feature_name': 'covid_hospital_admissions_per_100k'},\n",
       "  {'dataset_id': '41a32771-7a35-4da5-98a6-d420172108e8',\n",
       "   'feature_name': 'covid_inpatient_bed_utilization'},\n",
       "  {'dataset_id': '41a32771-7a35-4da5-98a6-d420172108e8',\n",
       "   'feature_name': 'covid-19_community_level'},\n",
       "  {'dataset_id': '41a32771-7a35-4da5-98a6-d420172108e8',\n",
       "   'feature_name': 'health_service_area'},\n",
       "  {'dataset_id': '41a32771-7a35-4da5-98a6-d420172108e8',\n",
       "   'feature_name': 'health_service_area_number'},\n",
       "  {'dataset_id': '41a32771-7a35-4da5-98a6-d420172108e8',\n",
       "   'feature_name': 'county'},\n",
       "  {'dataset_id': '41a32771-7a35-4da5-98a6-d420172108e8',\n",
       "   'feature_name': 'state'},\n",
       "  {'dataset_id': '41a32771-7a35-4da5-98a6-d420172108e8',\n",
       "   'feature_name': 'county_fips'},\n",
       "  {'dataset_id': '41a32771-7a35-4da5-98a6-d420172108e8',\n",
       "   'feature_name': 'date_updated'}],\n",
       " 'infected_population': [{'dataset_id': '41a32771-7a35-4da5-98a6-d420172108e8',\n",
       "   'feature_name': 'covid_cases_per_100k'},\n",
       "  {'dataset_id': '41a32771-7a35-4da5-98a6-d420172108e8',\n",
       "   'feature_name': 'covid_hospital_admissions_per_100k'},\n",
       "  {'dataset_id': '41a32771-7a35-4da5-98a6-d420172108e8',\n",
       "   'feature_name': 'covid_inpatient_bed_utilization'},\n",
       "  {'dataset_id': '41a32771-7a35-4da5-98a6-d420172108e8',\n",
       "   'feature_name': 'covid-19_community_level'},\n",
       "  {'dataset_id': '41a32771-7a35-4da5-98a6-d420172108e8',\n",
       "   'feature_name': 'county_population'},\n",
       "  {'dataset_id': '41a32771-7a35-4da5-98a6-d420172108e8',\n",
       "   'feature_name': 'health_service_area_population'},\n",
       "  {'dataset_id': '41a32771-7a35-4da5-98a6-d420172108e8',\n",
       "   'feature_name': 'health_service_area'},\n",
       "  {'dataset_id': '41a32771-7a35-4da5-98a6-d420172108e8',\n",
       "   'feature_name': 'health_service_area_number'},\n",
       "  {'dataset_id': '41a32771-7a35-4da5-98a6-d420172108e8',\n",
       "   'feature_name': 'county'},\n",
       "  {'dataset_id': '41a32771-7a35-4da5-98a6-d420172108e8',\n",
       "   'feature_name': 'county_fips'},\n",
       "  {'dataset_id': '41a32771-7a35-4da5-98a6-d420172108e8',\n",
       "   'feature_name': 'state'},\n",
       "  {'dataset_id': '41a32771-7a35-4da5-98a6-d420172108e8',\n",
       "   'feature_name': 'date_updated'}],\n",
       " 'immune_population': [{'dataset_id': '41a32771-7a35-4da5-98a6-d420172108e8',\n",
       "   'feature_name': 'county_population'},\n",
       "  {'dataset_id': '41a32771-7a35-4da5-98a6-d420172108e8',\n",
       "   'feature_name': 'health_service_area_population'},\n",
       "  {'dataset_id': '41a32771-7a35-4da5-98a6-d420172108e8',\n",
       "   'feature_name': 'covid_cases_per_100k'},\n",
       "  {'dataset_id': '41a32771-7a35-4da5-98a6-d420172108e8',\n",
       "   'feature_name': 'covid_hospital_admissions_per_100k'},\n",
       "  {'dataset_id': '41a32771-7a35-4da5-98a6-d420172108e8',\n",
       "   'feature_name': 'covid_inpatient_bed_utilization'},\n",
       "  {'dataset_id': '41a32771-7a35-4da5-98a6-d420172108e8',\n",
       "   'feature_name': 'covid-19_community_level'},\n",
       "  {'dataset_id': '41a32771-7a35-4da5-98a6-d420172108e8',\n",
       "   'feature_name': 'health_service_area'},\n",
       "  {'dataset_id': '41a32771-7a35-4da5-98a6-d420172108e8',\n",
       "   'feature_name': 'health_service_area_number'},\n",
       "  {'dataset_id': '41a32771-7a35-4da5-98a6-d420172108e8',\n",
       "   'feature_name': 'county'},\n",
       "  {'dataset_id': '41a32771-7a35-4da5-98a6-d420172108e8',\n",
       "   'feature_name': 'state'},\n",
       "  {'dataset_id': '41a32771-7a35-4da5-98a6-d420172108e8',\n",
       "   'feature_name': 'county_fips'},\n",
       "  {'dataset_id': '41a32771-7a35-4da5-98a6-d420172108e8',\n",
       "   'feature_name': 'date_updated'}]}"
      ]
     },
     "execution_count": 8,
     "metadata": {},
     "output_type": "execute_result"
    }
   ],
   "source": [
    "from find import find_dataset_features_basic_llm_query_1\n",
    "pred_ranking=find_dataset_features_basic_llm_query_1(one_to_one_features['models'][0]['info']['id'],db_dir=\"./demo/one_to_one_features\")\n",
    "print('Dataset Feature Relevance Ranked by Semantic Relevance to Model Feature for Each Feature:')\n",
    "pred_ranking"
   ]
  },
  {
   "cell_type": "markdown",
   "id": "197781f1-a20e-4f96-ba51-e5d09b9073dd",
   "metadata": {},
   "source": [
    "We can compare this to the ground truth, which was hand annotated -"
   ]
  },
  {
   "cell_type": "code",
   "execution_count": 9,
   "id": "9d5037d9-d828-4636-b32a-f718f8b6ac87",
   "metadata": {},
   "outputs": [
    {
     "data": {
      "text/plain": [
       "[{'model_id': 'de5e51cc-8b57-45ec-b3af-67556797ad4c',\n",
       "  'ranking_lists': {'susceptible_population': [{'dataset_id': '41a32771-7a35-4da5-98a6-d420172108e8',\n",
       "     'feature_name': 'county_population'}],\n",
       "   'infected_population': [{'dataset_id': '41a32771-7a35-4da5-98a6-d420172108e8',\n",
       "     'feature_name': 'covid_cases_per_100k'}],\n",
       "   'immune_population': [{'dataset_id': '41a32771-7a35-4da5-98a6-d420172108e8',\n",
       "     'feature_name': 'county_population'}]}}]"
      ]
     },
     "execution_count": 9,
     "metadata": {},
     "output_type": "execute_result"
    }
   ],
   "source": [
    "one_to_one_features['ground_truth']"
   ]
  },
  {
   "cell_type": "markdown",
   "id": "31bc25f9-ba07-401a-8f2e-81aab125bfc0",
   "metadata": {},
   "source": [
    "We can do this in the case of one model and many datasets as well, we just first get the top k documents then the top k features in those datasets for each model feature - "
   ]
  },
  {
   "cell_type": "code",
   "execution_count": 10,
   "id": "51dcea35-c834-4954-a52a-8f1e954ff6d8",
   "metadata": {},
   "outputs": [],
   "source": [
    "one_to_many_features=json.load(open(\"./eval_datasets/one_to_many_features.json\",\"r\"))"
   ]
  },
  {
   "cell_type": "code",
   "execution_count": null,
   "id": "aac4d5d4-8dbe-4cb2-bf7f-1def8d86045c",
   "metadata": {},
   "outputs": [
    {
     "name": "stdout",
     "output_type": "stream",
     "text": [
      "Feature county on model United States COVID-19 Community Levels by County was embedded\n",
      "Feature county_fips on model United States COVID-19 Community Levels by County was embedded\n",
      "Feature state on model United States COVID-19 Community Levels by County was embedded\n",
      "Feature county_population on model United States COVID-19 Community Levels by County was embedded\n",
      "Feature health_service_area_number on model United States COVID-19 Community Levels by County was embedded\n",
      "Feature health_service_area on model United States COVID-19 Community Levels by County was embedded\n",
      "Feature health_service_area_population on model United States COVID-19 Community Levels by County was embedded\n",
      "Feature covid_inpatient_bed_utilization on model United States COVID-19 Community Levels by County was embedded\n",
      "Feature covid_hospital_admissions_per_100k on model United States COVID-19 Community Levels by County was embedded\n",
      "Feature covid_cases_per_100k on model United States COVID-19 Community Levels by County was embedded\n",
      "Feature covid-19_community_level on model United States COVID-19 Community Levels by County was embedded\n",
      "Feature date_updated on model United States COVID-19 Community Levels by County was embedded\n",
      "Feature LocationAbbr on model The Tax Burden on Tobacco, 1970-2019 was embedded\n",
      "Feature LocationDesc on model The Tax Burden on Tobacco, 1970-2019 was embedded\n",
      "Feature Year on model The Tax Burden on Tobacco, 1970-2019 was embedded\n",
      "Feature Datasource on model The Tax Burden on Tobacco, 1970-2019 was embedded\n",
      "Feature TopicDesc on model The Tax Burden on Tobacco, 1970-2019 was embedded\n",
      "Feature MeasureDesc on model The Tax Burden on Tobacco, 1970-2019 was embedded\n",
      "Feature SubMeasureDesc on model The Tax Burden on Tobacco, 1970-2019 was embedded\n",
      "Feature Data_Value on model The Tax Burden on Tobacco, 1970-2019 was embedded\n",
      "Feature Data_Value_Unit on model The Tax Burden on Tobacco, 1970-2019 was embedded\n",
      "Feature Data_Value_Type on model The Tax Burden on Tobacco, 1970-2019 was embedded\n",
      "Feature GeoLocation on model The Tax Burden on Tobacco, 1970-2019 was embedded\n",
      "Feature Source on model The Tax Burden on Tobacco, 1970-2019 was embedded\n",
      "Feature TopicTypeId on model The Tax Burden on Tobacco, 1970-2019 was embedded\n",
      "Feature TopicId on model The Tax Burden on Tobacco, 1970-2019 was embedded\n",
      "Feature MeasureId on model The Tax Burden on Tobacco, 1970-2019 was embedded\n",
      "Feature SubMeasureID on model The Tax Burden on Tobacco, 1970-2019 was embedded\n",
      "Feature SubMeasureIdDisplayOrder on model The Tax Burden on Tobacco, 1970-2019 was embedded\n",
      "Feature States on model The Tax Burden on Tobacco, 1970-2019 was embedded\n",
      "Feature Year on model CDC Nutrition, Physical Activity, and Obesity - Legislation was embedded\n",
      "Feature Quarter on model CDC Nutrition, Physical Activity, and Obesity - Legislation was embedded\n",
      "Feature LocationAbbr on model CDC Nutrition, Physical Activity, and Obesity - Legislation was embedded\n",
      "Feature LocationDesc on model CDC Nutrition, Physical Activity, and Obesity - Legislation was embedded\n",
      "Feature HealthTopic on model CDC Nutrition, Physical Activity, and Obesity - Legislation was embedded\n",
      "Feature PolicyTopic on model CDC Nutrition, Physical Activity, and Obesity - Legislation was embedded\n",
      "Feature DataSource on model CDC Nutrition, Physical Activity, and Obesity - Legislation was embedded\n",
      "Feature Setting on model CDC Nutrition, Physical Activity, and Obesity - Legislation was embedded\n",
      "Feature Title on model CDC Nutrition, Physical Activity, and Obesity - Legislation was embedded\n",
      "Feature Status on model CDC Nutrition, Physical Activity, and Obesity - Legislation was embedded\n",
      "Feature Citation on model CDC Nutrition, Physical Activity, and Obesity - Legislation was embedded\n",
      "Feature StatusAltValue on model CDC Nutrition, Physical Activity, and Obesity - Legislation was embedded\n",
      "Feature DataType on model CDC Nutrition, Physical Activity, and Obesity - Legislation was embedded\n",
      "Feature Comments on model CDC Nutrition, Physical Activity, and Obesity - Legislation was embedded\n",
      "Feature EnactedDate on model CDC Nutrition, Physical Activity, and Obesity - Legislation was embedded\n",
      "Feature EffectiveDate on model CDC Nutrition, Physical Activity, and Obesity - Legislation was embedded\n",
      "Feature GeoLocation on model CDC Nutrition, Physical Activity, and Obesity - Legislation was embedded\n",
      "Feature DisplayOrder on model CDC Nutrition, Physical Activity, and Obesity - Legislation was embedded\n",
      "Feature PolicyTypeID on model CDC Nutrition, Physical Activity, and Obesity - Legislation was embedded\n",
      "Feature HealthTopicID on model CDC Nutrition, Physical Activity, and Obesity - Legislation was embedded\n",
      "Feature PolicyTopicID on model CDC Nutrition, Physical Activity, and Obesity - Legislation was embedded\n",
      "Feature SettingID on model CDC Nutrition, Physical Activity, and Obesity - Legislation was embedded\n",
      "Feature ProvisionID on model CDC Nutrition, Physical Activity, and Obesity - Legislation was embedded\n",
      "Feature Years on model Rates of TBI-related Deaths by Age Group - United States, 2001 - 2010 was embedded\n",
      "Feature 0–4 yr on model Rates of TBI-related Deaths by Age Group - United States, 2001 - 2010 was embedded\n",
      "Feature 5–14 yr on model Rates of TBI-related Deaths by Age Group - United States, 2001 - 2010 was embedded\n",
      "Feature 15–24 yr on model Rates of TBI-related Deaths by Age Group - United States, 2001 - 2010 was embedded\n",
      "Feature 25–44 yr on model Rates of TBI-related Deaths by Age Group - United States, 2001 - 2010 was embedded\n",
      "Feature 45–64 yr on model Rates of TBI-related Deaths by Age Group - United States, 2001 - 2010 was embedded\n",
      "Feature 65+ yr on model Rates of TBI-related Deaths by Age Group - United States, 2001 - 2010 was embedded\n",
      "Feature State on model Motor Vehicle Occupant Death Rate, by Age and Gender, 2012 & 2014, All States was embedded\n",
      "Feature Location on model Motor Vehicle Occupant Death Rate, by Age and Gender, 2012 & 2014, All States was embedded\n",
      "Feature All Ages, 2012 on model Motor Vehicle Occupant Death Rate, by Age and Gender, 2012 & 2014, All States was embedded\n",
      "Feature All Ages, 2014 on model Motor Vehicle Occupant Death Rate, by Age and Gender, 2012 & 2014, All States was embedded\n",
      "Feature Age 0-20, 2012 on model Motor Vehicle Occupant Death Rate, by Age and Gender, 2012 & 2014, All States was embedded\n",
      "Feature Age 0-20, 2014 on model Motor Vehicle Occupant Death Rate, by Age and Gender, 2012 & 2014, All States was embedded\n",
      "Feature Age 21-34, 2012 on model Motor Vehicle Occupant Death Rate, by Age and Gender, 2012 & 2014, All States was embedded\n",
      "Feature Age 21-34, 2014 on model Motor Vehicle Occupant Death Rate, by Age and Gender, 2012 & 2014, All States was embedded\n",
      "Feature Age 35-54, 2012 on model Motor Vehicle Occupant Death Rate, by Age and Gender, 2012 & 2014, All States was embedded\n",
      "Feature Age 35-54, 2014 on model Motor Vehicle Occupant Death Rate, by Age and Gender, 2012 & 2014, All States was embedded\n",
      "Feature Age 55+, 2012 on model Motor Vehicle Occupant Death Rate, by Age and Gender, 2012 & 2014, All States was embedded\n",
      "Feature Age 55+, 2014 on model Motor Vehicle Occupant Death Rate, by Age and Gender, 2012 & 2014, All States was embedded\n",
      "Feature Male, 2012 on model Motor Vehicle Occupant Death Rate, by Age and Gender, 2012 & 2014, All States was embedded\n",
      "Feature Male, 2014 on model Motor Vehicle Occupant Death Rate, by Age and Gender, 2012 & 2014, All States was embedded\n",
      "Feature Female, 2012 on model Motor Vehicle Occupant Death Rate, by Age and Gender, 2012 & 2014, All States was embedded\n",
      "Feature Female, 2014 on model Motor Vehicle Occupant Death Rate, by Age and Gender, 2012 & 2014, All States was embedded\n",
      "Feature States on model Motor Vehicle Occupant Death Rate, by Age and Gender, 2012 & 2014, All States was embedded\n",
      "Feature Counties on model Motor Vehicle Occupant Death Rate, by Age and Gender, 2012 & 2014, All States was embedded\n",
      "Feature State on model Botulism was embedded\n",
      "Feature Year on model Botulism was embedded\n",
      "Feature BotType on model Botulism was embedded\n",
      "Feature ToxinType on model Botulism was embedded\n",
      "Feature Count on model Botulism was embedded\n",
      "Feature Observation on model Development of an Empirically Derived Measure of Food Safety Culture in Restaurants was embedded\n",
      "Feature Site on model Development of an Empirically Derived Measure of Food Safety Culture in Restaurants was embedded\n",
      "Feature Language on model Development of an Empirically Derived Measure of Food Safety Culture in Restaurants was embedded\n",
      "Feature Q1 on model Development of an Empirically Derived Measure of Food Safety Culture in Restaurants was embedded\n",
      "Feature Q2 on model Development of an Empirically Derived Measure of Food Safety Culture in Restaurants was embedded\n",
      "Feature Q3 on model Development of an Empirically Derived Measure of Food Safety Culture in Restaurants was embedded\n",
      "Feature Q4 on model Development of an Empirically Derived Measure of Food Safety Culture in Restaurants was embedded\n",
      "Feature Q5 on model Development of an Empirically Derived Measure of Food Safety Culture in Restaurants was embedded\n",
      "Feature Q6 on model Development of an Empirically Derived Measure of Food Safety Culture in Restaurants was embedded\n",
      "Feature Q7 on model Development of an Empirically Derived Measure of Food Safety Culture in Restaurants was embedded\n",
      "Feature Q8 on model Development of an Empirically Derived Measure of Food Safety Culture in Restaurants was embedded\n",
      "Feature Q9 on model Development of an Empirically Derived Measure of Food Safety Culture in Restaurants was embedded\n",
      "Feature Q10 on model Development of an Empirically Derived Measure of Food Safety Culture in Restaurants was embedded\n",
      "Feature Q11 on model Development of an Empirically Derived Measure of Food Safety Culture in Restaurants was embedded\n",
      "Feature Q12 on model Development of an Empirically Derived Measure of Food Safety Culture in Restaurants was embedded\n",
      "Feature Q13 on model Development of an Empirically Derived Measure of Food Safety Culture in Restaurants was embedded\n",
      "Feature Q14 on model Development of an Empirically Derived Measure of Food Safety Culture in Restaurants was embedded\n",
      "Feature Q15 on model Development of an Empirically Derived Measure of Food Safety Culture in Restaurants was embedded\n",
      "Feature Q16 on model Development of an Empirically Derived Measure of Food Safety Culture in Restaurants was embedded\n",
      "Feature Q17 on model Development of an Empirically Derived Measure of Food Safety Culture in Restaurants was embedded\n",
      "Feature Q18 on model Development of an Empirically Derived Measure of Food Safety Culture in Restaurants was embedded\n",
      "Feature Q19 on model Development of an Empirically Derived Measure of Food Safety Culture in Restaurants was embedded\n",
      "Feature Q20 on model Development of an Empirically Derived Measure of Food Safety Culture in Restaurants was embedded\n",
      "Feature Q21 on model Development of an Empirically Derived Measure of Food Safety Culture in Restaurants was embedded\n",
      "Feature Q22 on model Development of an Empirically Derived Measure of Food Safety Culture in Restaurants was embedded\n",
      "Feature Q23 on model Development of an Empirically Derived Measure of Food Safety Culture in Restaurants was embedded\n",
      "Feature Q24 on model Development of an Empirically Derived Measure of Food Safety Culture in Restaurants was embedded\n",
      "Feature Q25 on model Development of an Empirically Derived Measure of Food Safety Culture in Restaurants was embedded\n",
      "Feature Q26 on model Development of an Empirically Derived Measure of Food Safety Culture in Restaurants was embedded\n",
      "Feature Q27 on model Development of an Empirically Derived Measure of Food Safety Culture in Restaurants was embedded\n",
      "Feature Q28 on model Development of an Empirically Derived Measure of Food Safety Culture in Restaurants was embedded\n",
      "Feature D1 on model Development of an Empirically Derived Measure of Food Safety Culture in Restaurants was embedded\n",
      "Feature D2 on model Development of an Empirically Derived Measure of Food Safety Culture in Restaurants was embedded\n",
      "Feature D3 on model Development of an Empirically Derived Measure of Food Safety Culture in Restaurants was embedded\n",
      "Feature D4 on model Development of an Empirically Derived Measure of Food Safety Culture in Restaurants was embedded\n",
      "Feature D5 on model Development of an Empirically Derived Measure of Food Safety Culture in Restaurants was embedded\n",
      "Feature D6 on model Development of an Empirically Derived Measure of Food Safety Culture in Restaurants was embedded\n",
      "Feature D7 on model Development of an Empirically Derived Measure of Food Safety Culture in Restaurants was embedded\n",
      "Feature D8 on model Development of an Empirically Derived Measure of Food Safety Culture in Restaurants was embedded\n",
      "Feature D9 on model Development of an Empirically Derived Measure of Food Safety Culture in Restaurants was embedded\n",
      "Feature MeasureId on model Air Quality Measures on the National Environmental Health Tracking Network was embedded\n",
      "Feature MeasureName on model Air Quality Measures on the National Environmental Health Tracking Network was embedded\n",
      "Feature MeasureType on model Air Quality Measures on the National Environmental Health Tracking Network was embedded\n",
      "Feature StratificationLevel on model Air Quality Measures on the National Environmental Health Tracking Network was embedded\n",
      "Feature StateFips on model Air Quality Measures on the National Environmental Health Tracking Network was embedded\n",
      "Feature StateName on model Air Quality Measures on the National Environmental Health Tracking Network was embedded\n",
      "Feature CountyFips on model Air Quality Measures on the National Environmental Health Tracking Network was embedded\n",
      "Feature CountyName on model Air Quality Measures on the National Environmental Health Tracking Network was embedded\n",
      "Feature ReportYear on model Air Quality Measures on the National Environmental Health Tracking Network was embedded\n",
      "Feature Value on model Air Quality Measures on the National Environmental Health Tracking Network was embedded\n",
      "Feature Unit on model Air Quality Measures on the National Environmental Health Tracking Network was embedded\n",
      "Feature UnitName on model Air Quality Measures on the National Environmental Health Tracking Network was embedded\n",
      "Feature DataOrigin on model Air Quality Measures on the National Environmental Health Tracking Network was embedded\n",
      "Feature MonitorOnly on model Air Quality Measures on the National Environmental Health Tracking Network was embedded\n",
      "Feature year on model Daily Census Tract-Level PM2.5 Concentrations, 2016 was embedded\n",
      "Feature date on model Daily Census Tract-Level PM2.5 Concentrations, 2016 was embedded\n",
      "Feature statefips on model Daily Census Tract-Level PM2.5 Concentrations, 2016 was embedded\n",
      "Feature countyfips on model Daily Census Tract-Level PM2.5 Concentrations, 2016 was embedded\n",
      "Feature ctfips on model Daily Census Tract-Level PM2.5 Concentrations, 2016 was embedded\n",
      "Feature latitude on model Daily Census Tract-Level PM2.5 Concentrations, 2016 was embedded\n",
      "Feature longitude on model Daily Census Tract-Level PM2.5 Concentrations, 2016 was embedded\n",
      "Feature DS_PM_pred on model Daily Census Tract-Level PM2.5 Concentrations, 2016 was embedded\n",
      "Feature DS_PM_stdd on model Daily Census Tract-Level PM2.5 Concentrations, 2016 was embedded\n",
      "Feature State_Tribe_Territory on model U.S. State and Territorial Public Mask Mandates From April 10, 2020 through August 15, 2021 by County by Day was embedded\n",
      "Feature County_Name on model U.S. State and Territorial Public Mask Mandates From April 10, 2020 through August 15, 2021 by County by Day was embedded\n",
      "Feature FIPS_State on model U.S. State and Territorial Public Mask Mandates From April 10, 2020 through August 15, 2021 by County by Day was embedded\n",
      "Feature FIPS_County on model U.S. State and Territorial Public Mask Mandates From April 10, 2020 through August 15, 2021 by County by Day was embedded\n",
      "Feature date on model U.S. State and Territorial Public Mask Mandates From April 10, 2020 through August 15, 2021 by County by Day was embedded\n",
      "Feature order_code on model U.S. State and Territorial Public Mask Mandates From April 10, 2020 through August 15, 2021 by County by Day was embedded\n",
      "Feature Face_Masks_Required_in_Public on model U.S. State and Territorial Public Mask Mandates From April 10, 2020 through August 15, 2021 by County by Day was embedded\n",
      "Feature Source_of_Action on model U.S. State and Territorial Public Mask Mandates From April 10, 2020 through August 15, 2021 by County by Day was embedded\n",
      "Feature URL on model U.S. State and Territorial Public Mask Mandates From April 10, 2020 through August 15, 2021 by County by Day was embedded\n",
      "Feature Citation on model U.S. State and Territorial Public Mask Mandates From April 10, 2020 through August 15, 2021 by County by Day was embedded\n",
      "Feature susceptible_population on model SIR Model for COVID-19 in the U.S was embedded\n",
      "Feature infected_population on model SIR Model for COVID-19 in the U.S was embedded\n",
      "Feature immune_population on model SIR Model for COVID-19 in the U.S was embedded\n"
     ]
    }
   ],
   "source": [
    "feat_vs=short_feature_embed(one_to_many_features['datasets']+one_to_many_features['models'],db_dir=\"./demo/one_to_many/features\")\n",
    "doc_vs=document_embed(one_to_many_features['datasets']+one_to_many_features['models'],db_dir=\"./demo/one_to_many/datasets\")"
   ]
  },
  {
   "cell_type": "code",
   "execution_count": null,
   "id": "3a1d1812-41d4-47a3-9ad0-e8461e02cbeb",
   "metadata": {},
   "outputs": [],
   "source": [
    "from find import find_dataset_features_hierarchical\n",
    "pred_ranking=find_dataset_features_hierarchical(model['info']['id'],\n",
    "                                                dataset_db_dir=\"./demo/one_to_many/datasets\",\n",
    "                                                features_db_dir=\"./demo/one_to_many/features\")\n",
    "print('Dataset Features Ranked by Semantic Relevance to Model Features:')\n",
    "pred_ranking"
   ]
  },
  {
   "cell_type": "markdown",
   "id": "7c56ed0b-194b-4369-ac91-dcced1206c99",
   "metadata": {},
   "source": [
    "We can compare this to the ground truth, which was hand annotated -"
   ]
  },
  {
   "cell_type": "code",
   "execution_count": null,
   "id": "171eea2d-82f1-477d-b929-0291ae7a066b",
   "metadata": {},
   "outputs": [],
   "source": [
    "print('Model Info:')\n",
    "pprint(one_to_one_features['models'])\n",
    "print('Datasets Info:')\n",
    "print('\\n','Dataset Name:',one_to_one_features['datasets'][0]['info']['name'],'\\n','Dataset ID:',one_to_one_features['datasets'][0]['info']['id'])\n",
    "for feature in one_to_one_features['datasets'][0]['info']['columns']:\n",
    "    print('\\n','Dataset Feature Name:',feature['name'],'\\n','Dataset Feature Description:',feature['description'])"
   ]
  }
 ],
 "metadata": {
  "kernelspec": {
   "display_name": "Python 3 (Spyder)",
   "language": "python3",
   "name": "python3"
  },
  "language_info": {
   "codemirror_mode": {
    "name": "ipython",
    "version": 3
   },
   "file_extension": ".py",
   "mimetype": "text/x-python",
   "name": "python",
   "nbconvert_exporter": "python",
   "pygments_lexer": "ipython3",
   "version": "3.9.18"
  }
 },
 "nbformat": 4,
 "nbformat_minor": 5
}
